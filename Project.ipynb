{
 "cells": [
  {
   "cell_type": "code",
   "execution_count": 6,
   "id": "0698f96e",
   "metadata": {
    "scrolled": false
   },
   "outputs": [],
   "source": [
    "import numpy as np\n",
    "import os\n",
    "import nibabel as nib\n",
    "\n",
    "from scipy import ndimage\n",
    "from sklearn.model_selection import train_test_split\n",
    "# import matplotlib.pyplot as plt\n",
    "\n",
    "import tensorflow as tf\n",
    "from tensorflow import keras\n",
    "from tensorflow.keras import layers\n",
    "\n",
    "\n",
    "# nii_object = nib.load('Data/I004_3.nii.gz')\n",
    "# nii_data = nii_object.get_fdata()\n",
    "\n",
    "# print(nii_object)\n",
    "# print(nii_data)\n",
    "\n",
    "# def show_slices(slices):\n",
    "#     fig, axes = plt.subplots(1,len(slices))\n",
    "#     for i, slice in enumerate(slices):\n",
    "\n",
    "#         axes[i].imshow(slice.T, cmap=\"gray\", origin=\"lower\")\n",
    "\n",
    "# slice_0 = nii_data[int(nii_data.shape[0]/2), :, :]\n",
    "# slice_1 = nii_data[:,int(nii_data.shape[1]/2), :]\n",
    "# slice_2 = nii_data[:, :, int(nii_data.shape[2]/2)]\n",
    "# slice_3 = nii_data[:,:,3]\n",
    "# show_slices([slice_0, slice_1, slice_2,slice_3])\n",
    "# plt.suptitle(\"Center slices for EPI image\")\n",
    "\n",
    "\n"
   ]
  },
  {
   "cell_type": "code",
   "execution_count": 7,
   "id": "74eaa458",
   "metadata": {},
   "outputs": [
    {
     "name": "stdout",
     "output_type": "stream",
     "text": [
      "Num GPUs Available:  0\n"
     ]
    }
   ],
   "source": [
    "print(\"Num GPUs Available: \", len(tf.config.list_physical_devices('GPU')))"
   ]
  },
  {
   "cell_type": "code",
   "execution_count": 10,
   "id": "bca652ef",
   "metadata": {},
   "outputs": [],
   "source": [
    "def read(filepath):\n",
    "    \"\"\"Read and load volume\"\"\"\n",
    "    # Read file\n",
    "    scan = nib.load(filepath)\n",
    "    # Get raw data\n",
    "    scan = scan.get_fdata()\n",
    "    return scan\n",
    "\n",
    "\n",
    "def normalize(volume):\n",
    "    \"\"\"Normalize the volume\"\"\"\n",
    "    min = -1000\n",
    "    max = 400\n",
    "    volume[volume < min] = min\n",
    "    volume[volume > max] = max\n",
    "    volume = (volume - min) / (max - min)\n",
    "    volume = volume.astype(\"float32\")\n",
    "    return volume\n",
    "\n",
    "\n",
    "def resize(img):\n",
    "    \"\"\"Resize across z-axis\"\"\"\n",
    "    # Set the desired depth\n",
    "    desired_depth = 64\n",
    "    desired_width = 128\n",
    "    desired_height = 128\n",
    "    # Get current depth\n",
    "    current_depth = img.shape[-1]\n",
    "    current_width = img.shape[0]\n",
    "    current_height = img.shape[1]\n",
    "    # Compute depth factor\n",
    "    depth = current_depth / desired_depth\n",
    "    width = current_width / desired_width\n",
    "    height = current_height / desired_height\n",
    "    depth_factor = 1 / depth\n",
    "    width_factor = 1 / width\n",
    "    height_factor = 1 / height\n",
    "    # Rotate\n",
    "    img = ndimage.rotate(img, 90, reshape=False)\n",
    "    # Resize across z-axis\n",
    "    img = ndimage.zoom(img, (width_factor, height_factor, depth_factor), order=1)\n",
    "    return img\n",
    "\n",
    "                                            # image shapes were not returning correctly\n",
    "# def read(path):\n",
    "#     scan = nib.load(path)\n",
    "#     scan = scan.get_fdata()\n",
    "#     return scan\n",
    "\n",
    "# # normalizing the volume between the ranges of [-1000,1000]\n",
    "# def normalize(volume):\n",
    "#     min = -1000\n",
    "#     max = 1000\n",
    "#     volume[volume < min] = min\n",
    "#     volume[volume < max] = max\n",
    "#     volume = volume.astype(\"float32\")\n",
    "#     return volume \n",
    "\n",
    "# # to lower computational cost, resize the 3D image across the z axis\n",
    "# def resize(img):\n",
    "    \n",
    "#     setDepth = 64\n",
    "#     setWidth = 128\n",
    "#     setHeight = 128\n",
    "\n",
    "#     currentDepth = img.shape[2]\n",
    "#     currentWidth = img.shape[1]\n",
    "#     currentHeight = img.shape[0]\n",
    "\n",
    "#     d = currentDepth / setDepth\n",
    "#     w = currentWidth / setWidth\n",
    "#     h  = currentHeight / setHeight\n",
    "\n",
    "#     depthFactor = 1 / d \n",
    "#     widthFactor = 1 / w \n",
    "#     heightFactor = 1 / h\n",
    "    \n",
    "#     img = ndimage.rotate(img, 90, reshape=False)\n",
    "#     img  = ndimage.zoom(img, (widthFactor, heightFactor, depthFactor), order=1)\n",
    "\n",
    "#     return img\n",
    "\n",
    "\n",
    "def process_img(path):\n",
    "    volume = read(path)\n",
    "    volume = normalize(volume)\n",
    "    volume = resize(volume)\n",
    "    return volume \n",
    "\n"
   ]
  },
  {
   "cell_type": "code",
   "execution_count": 9,
   "id": "1544361a",
   "metadata": {},
   "outputs": [],
   "source": [
    "# # Creating np.arrays for the 3D images and their respective ground truth\n",
    "\n",
    "# #Creating the paths for these images\n",
    "# non_target_paths = [\n",
    "#     os.path.join(os.getcwd(), \"labeled_data/data/0\", x)\n",
    "#     for x in os.listdir(\"labeled_data/data/0\")\n",
    "# ]\n",
    "# saline_paths = [\n",
    "#     os.path.join(os.getcwd(), \"labeled_data/data/1\", x)\n",
    "#     for x in os.listdir(\"labeled_data/data/1\")\n",
    "# ]\n",
    "# rubber_paths = [\n",
    "#     os.path.join(os.getcwd(), \"labeled_data/data/2\", x)\n",
    "#     for x in os.listdir(\"labeled_data/data/2\")\n",
    "# ]\n",
    "# clay_paths = [\n",
    "#     os.path.join(os.getcwd(), \"labeled_data/data/3\", x)\n",
    "#     for x in os.listdir(\"labeled_data/data/3\")\n",
    "# ]\n",
    "\n",
    "# print(len(non_target_paths))\n",
    "# print(len(saline_paths))\n",
    "# print(len(rubber_paths))\n",
    "# print(len(clay_paths))\n",
    "\n",
    "# # Creating np.array for respective images feature\n",
    "\n",
    "# non_target_imgs = np.array([process_img(path) for path in non_target_paths])\n",
    "# saline_imgs = np.array([process_img(path) for path in saline_paths])\n",
    "# rubber_imgs = np.array([process_img(path) for path in rubber_paths])\n",
    "# clay_imgs = np.array([process_img(path) for path in clay_paths])\n",
    "\n",
    "# # now we are assigning their respective ground truth\n",
    "\n",
    "# non_target = np.array([0 for _ in range(len(non_target_imgs))])\n",
    "# saline_target = np.array([1 for _ in range(len(saline_imgs))])\n",
    "# rubber_target = np.array([2 for _ in range(len(rubber_imgs))])\n",
    "# clay_target = np.array([3 for _ in range(len(clay_imgs))])\n",
    "\n"
   ]
  },
  {
   "cell_type": "code",
   "execution_count": 11,
   "id": "b9b215cc",
   "metadata": {},
   "outputs": [
    {
     "name": "stdout",
     "output_type": "stream",
     "text": [
      "c:\\Users\\pjame\\OneDrive\\Documents\\GitHub\\ATR_Project\n"
     ]
    }
   ],
   "source": [
    "print(os.getcwd())\n",
    "\n",
    "data_folder = f'{os.getcwd()}/labeled_data/data/'\n",
    "\n",
    "X = []\n",
    "Y = []\n",
    "for label in os.listdir(data_folder):\n",
    "    img_directory = f'{data_folder}/{label}/'\n",
    "    for img in os.listdir(img_directory):\n",
    "        X.append(process_img(img_directory + '/' + img)) \n",
    "        Y += [label]\n",
    "        \n",
    "\n",
    "        \n",
    "        \n",
    "X = np.array(X, dtype='object')\n",
    "Y = np.array(Y)\n",
    "\n"
   ]
  },
  {
   "cell_type": "code",
   "execution_count": 12,
   "id": "9774f126",
   "metadata": {},
   "outputs": [],
   "source": [
    "def create_model(width=128, height=128, depth=64):\n",
    "    \"\"\"Build a 3D convolutional neural network model.\"\"\"\n",
    "\n",
    "    inputs = keras.Input((width, height, depth, 1))\n",
    "\n",
    "    x = layers.Conv3D(filters=64, kernel_size=3, activation=\"relu\")(inputs)\n",
    "    x = layers.MaxPool3D(pool_size=2)(x)\n",
    "    x = layers.BatchNormalization()(x)\n",
    "\n",
    "    x = layers.Conv3D(filters=64, kernel_size=3, activation=\"relu\")(x)\n",
    "    x = layers.MaxPool3D(pool_size=2)(x)\n",
    "    x = layers.BatchNormalization()(x)\n",
    "\n",
    "    x = layers.Conv3D(filters=128, kernel_size=3, activation=\"relu\")(x)\n",
    "    x = layers.MaxPool3D(pool_size=2)(x)\n",
    "    x = layers.BatchNormalization()(x)\n",
    "\n",
    "    x = layers.Conv3D(filters=256, kernel_size=3, activation=\"relu\")(x)\n",
    "    x = layers.MaxPool3D(pool_size=2)(x)\n",
    "    x = layers.BatchNormalization()(x)\n",
    "\n",
    "    x = layers.GlobalAveragePooling3D()(x)\n",
    "    x = layers.Dense(units=512, activation=\"relu\")(x)\n",
    "    x = layers.Dropout(0.3)(x)\n",
    "\n",
    "    outputs = layers.Dense(units=1, activation=\"sigmoid\")(x)\n",
    "\n",
    "    # Define the model.\n",
    "    model = keras.Model(inputs, outputs, name=\"3dcnn\")\n",
    "    return model"
   ]
  },
  {
   "cell_type": "code",
   "execution_count": 13,
   "id": "ddf7fc30",
   "metadata": {},
   "outputs": [],
   "source": [
    "\n",
    "x_train, x_test, y_train, y_test = train_test_split(X, Y, test_size=0.3)\n"
   ]
  },
  {
   "cell_type": "code",
   "execution_count": 14,
   "id": "081817d2",
   "metadata": {},
   "outputs": [
    {
     "ename": "",
     "evalue": "",
     "output_type": "error",
     "traceback": [
      "\u001b[1;31mCanceled future for execute_request message before replies were done"
     ]
    },
    {
     "ename": "",
     "evalue": "",
     "output_type": "error",
     "traceback": [
      "\u001b[1;31mThe Kernel crashed while executing code in the the current cell or a previous cell. Please review the code in the cell(s) to identify a possible cause of the failure. Click <a href='https://aka.ms/vscodeJupyterKernelCrash'>here</a> for more info. View Jupyter <a href='command:jupyter.viewOutput'>log</a> for further details."
     ]
    }
   ],
   "source": [
    "\n",
    "model = create_model()\n",
    "batch_size = 10\n",
    "epochs = 10\n",
    "validation_split = 0.1\n",
    "\n",
    "model.compile(loss='categorical_crossentropy', optimizer='adam', metrics='accuracy')\n",
    "model.fit(x_train, y_train, \n",
    "            batch_size=batch_size,\n",
    "            epochs=epochs,\n",
    "            validation_split=validation_split,\n",
    "            shuffle=True,\n",
    "            verbose=2,\n",
    "            )\n"
   ]
  }
 ],
 "metadata": {
  "kernelspec": {
   "display_name": "base",
   "language": "python",
   "name": "python3"
  },
  "language_info": {
   "codemirror_mode": {
    "name": "ipython",
    "version": 3
   },
   "file_extension": ".py",
   "mimetype": "text/x-python",
   "name": "python",
   "nbconvert_exporter": "python",
   "pygments_lexer": "ipython3",
   "version": "3.9.16"
  },
  "vscode": {
   "interpreter": {
    "hash": "2796f898c241be261d17d4440712f4c58a6e72713839fe7ec4d10cc08aa00573"
   }
  }
 },
 "nbformat": 4,
 "nbformat_minor": 5
}
