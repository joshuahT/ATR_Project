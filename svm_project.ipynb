{
 "cells": [
  {
   "cell_type": "code",
   "execution_count": 42,
   "metadata": {},
   "outputs": [],
   "source": [
    "from matplotlib import pyplot as plt\n",
    "from skimage.feature import hog\n",
    "from skimage import exposure\n",
    "from skimage.transform import resize\n",
    "\n",
    "from sklearn.svm import SVC\n",
    "from sklearn.model_selection import train_test_split\n",
    "from sklearn.cluster import KMeans\n",
    "from sklearn import tree\n",
    "\n",
    "import os\n",
    "import numpy as np\n",
    "import nibabel as nib\n",
    "\n",
    "import pandas as pd\n"
   ]
  },
  {
   "cell_type": "code",
   "execution_count": 48,
   "metadata": {},
   "outputs": [],
   "source": [
    "def process_img(filepath, resize_l=250, resize_w=250, resize_d=64):\n",
    "    scan = nib.load(filepath)\n",
    "    scan = scan.get_fdata()\n",
    "    \n",
    "    scan = resize(scan, output_shape=(resize_l, resize_w, resize_d))\n",
    "    scan = hog(scan, orientations=16, pixels_per_cell=(20,20), cells_per_block=(1,1), channel_axis=-1)\n",
    "    return scan\n",
    "\n",
    "\n",
    "def process_with_aug(filepath, resize_l=250, resize_w=250, resize_d=64):\n",
    "    scan = nib.load(filepath)\n",
    "    scan = scan.get_fdata()\n",
    "    \n",
    "    scan = resize(scan, output_shape=(resize_l, resize_w, resize_d))\n",
    "    aug = \n",
    "    scan = hog(scan, orientations=16, pixels_per_cell=(20,20), cells_per_block=(1,1), channel_axis=-1)\n",
    "\n",
    "    return scan\n"
   ]
  },
  {
   "cell_type": "code",
   "execution_count": null,
   "metadata": {},
   "outputs": [],
   "source": [
    "\n",
    "data_folder = f'{os.getcwd()}/labeled_data/data/'\n",
    "\n",
    "length = 0\n",
    "for label in os.listdir(data_folder):\n",
    "    length += len(os.listdir(f'{data_folder}/{label}/'))\n",
    "\n",
    "\n",
    "# X = np.empty(shape=(length, resize_l, resize_w, 64,), dtype=np.float16)\n",
    "X = []\n",
    "Y = []\n",
    "\n",
    "j = 0\n",
    "print('Loading Images')\n",
    "x,y,z = 0,0,0\n",
    "for label in os.listdir(data_folder):\n",
    "    img_directory = f'{data_folder}/{label}/'\n",
    "    for img in os.listdir(img_directory): \n",
    "        \n",
    "        img_path = '{}{}'.format(img_directory, img)\n",
    "        img = nib.load(img_path)\n",
    "        img "
   ]
  },
  {
   "cell_type": "code",
   "execution_count": 67,
   "metadata": {},
   "outputs": [
    {
     "name": "stdout",
     "output_type": "stream",
     "text": [
      "Loading Images\n"
     ]
    }
   ],
   "source": [
    "resize_l = 250\n",
    "resize_w = 250\n",
    "resize_d = 64\n",
    "\n",
    "data_folder = f'{os.getcwd()}/labeled_data/data/'\n",
    "\n",
    "length = 0\n",
    "for label in os.listdir(data_folder):\n",
    "    length += len(os.listdir(f'{data_folder}/{label}/'))\n",
    "\n",
    "\n",
    "# X = np.empty(shape=(length, resize_l, resize_w, 64,), dtype=np.float16)\n",
    "X = []\n",
    "Y = []\n",
    "\n",
    "j = 0\n",
    "print('Loading Images')\n",
    "for label in os.listdir(data_folder):\n",
    "    img_directory = f'{data_folder}/{label}/'\n",
    "    for img in os.listdir(img_directory): \n",
    "        if int(label) == 0:\n",
    "            if j >= 500:\n",
    "                continue\n",
    "            j += 1   \n",
    "        \n",
    "        img_path = '{}{}'.format(img_directory, img)\n",
    "        img = process_img(img_path, resize_l, resize_w, resize_d)\n",
    "        X += [img]\n",
    "        Y += [label]\n",
    "        "
   ]
  },
  {
   "cell_type": "code",
   "execution_count": 81,
   "metadata": {},
   "outputs": [
    {
     "data": {
      "text/plain": [
       "<matplotlib.image.AxesImage at 0x26491b89b10>"
      ]
     },
     "execution_count": 81,
     "metadata": {},
     "output_type": "execute_result"
    },
    {
     "data": {
      "image/png": "[encoded data removed]",
      "text/plain": [
       "<Figure size 640x480 with 1 Axes>"
      ]
     },
     "metadata": {},
     "output_type": "display_data"
    }
   ],
   "source": [
    "test = nib.load('labeled_data\\data\\\\0\\I128_9.nii.gz')\n",
    "test = test.get_fdata()\n",
    "plt.imshow(test[0])"
   ]
  },
  {
   "cell_type": "code",
   "execution_count": 64,
   "metadata": {},
   "outputs": [],
   "source": [
    "train_x, test_x, train_y, test_y = train_test_split(X, Y, test_size=0.3, random_state=777)\n"
   ]
  },
  {
   "cell_type": "code",
   "execution_count": 68,
   "metadata": {},
   "outputs": [
    {
     "data": {
      "text/plain": [
       "0.4777777777777778"
      ]
     },
     "execution_count": 68,
     "metadata": {},
     "output_type": "execute_result"
    }
   ],
   "source": [
    "classifier = tree.DecisionTreeClassifier()\n",
    "classifier.fit(train_x, train_y)\n",
    "y_pred = classifier.predict(test_x)\n",
    "acc = np.mean(y_pred == test_y)\n",
    "acc"
   ]
  },
  {
   "cell_type": "code",
   "execution_count": 69,
   "metadata": {},
   "outputs": [
    {
     "data": {
      "text/plain": [
       "0.5777777777777777"
      ]
     },
     "execution_count": 69,
     "metadata": {},
     "output_type": "execute_result"
    }
   ],
   "source": [
    "classifier = SVC()\n",
    "\n",
    "classifier.fit(train_x, train_y)\n",
    "y_pred = classifier.predict(test_x)\n",
    "\n",
    "acc = np.mean(y_pred == test_y)\n",
    "acc"
   ]
  },
  {
   "cell_type": "code",
   "execution_count": 9,
   "metadata": {},
   "outputs": [],
   "source": [
    "data_folder = f'{os.getcwd()}/ATR_data/data/'\n",
    "\n",
    "ground_truth = pd.read_excel('testing_filenames.xlsx', names=['filename'])\n",
    "gt_x = []\n",
    "\n",
    "for i in ground_truth.index:\n",
    "    filename = ground_truth['filename'].iloc[i]\n",
    "\n",
    "    img_path = '{}{}.nii.gz'.format(data_folder,filename[1:-1])\n",
    "    gt_x += [process_img(img_path, resize_l, resize_w, resize_d)]\n",
    "\n",
    "gt_y = classifier.predict(gt_x)\n",
    "\n",
    "\n"
   ]
  },
  {
   "cell_type": "code",
   "execution_count": 41,
   "metadata": {},
   "outputs": [],
   "source": [
    "df = pd.DataFrame([ground_truth['filename'], gt_y]).T\n",
    "\n",
    "df.columns = ['filename', 'label']\n",
    "df.to_excel('y_predictions.xlsx', )\n"
   ]
  },
  {
   "cell_type": "code",
   "execution_count": 139,
   "metadata": {},
   "outputs": [
    {
     "data": {
      "text/html": [
       "<div>\n",
       "<style scoped>\n",
       "    .dataframe tbody tr th:only-of-type {\n",
       "        vertical-align: middle;\n",
       "    }\n",
       "\n",
       "    .dataframe tbody tr th {\n",
       "        vertical-align: top;\n",
       "    }\n",
       "\n",
       "    .dataframe thead th {\n",
       "        text-align: right;\n",
       "    }\n",
       "</style>\n",
       "<table border=\"1\" class=\"dataframe\">\n",
       "  <thead>\n",
       "    <tr style=\"text-align: right;\">\n",
       "      <th></th>\n",
       "      <th>filename</th>\n",
       "    </tr>\n",
       "  </thead>\n",
       "  <tbody>\n",
       "    <tr>\n",
       "      <th>0</th>\n",
       "      <td>'I135_2'</td>\n",
       "    </tr>\n",
       "    <tr>\n",
       "      <th>1</th>\n",
       "      <td>'I135_3'</td>\n",
       "    </tr>\n",
       "    <tr>\n",
       "      <th>2</th>\n",
       "      <td>'I135_4'</td>\n",
       "    </tr>\n",
       "    <tr>\n",
       "      <th>3</th>\n",
       "      <td>'I135_5'</td>\n",
       "    </tr>\n",
       "    <tr>\n",
       "      <th>4</th>\n",
       "      <td>'I135_6'</td>\n",
       "    </tr>\n",
       "    <tr>\n",
       "      <th>...</th>\n",
       "      <td>...</td>\n",
       "    </tr>\n",
       "    <tr>\n",
       "      <th>461</th>\n",
       "      <td>'I193_18'</td>\n",
       "    </tr>\n",
       "    <tr>\n",
       "      <th>462</th>\n",
       "      <td>'I193_19'</td>\n",
       "    </tr>\n",
       "    <tr>\n",
       "      <th>463</th>\n",
       "      <td>'I193_20'</td>\n",
       "    </tr>\n",
       "    <tr>\n",
       "      <th>464</th>\n",
       "      <td>'I193_21'</td>\n",
       "    </tr>\n",
       "    <tr>\n",
       "      <th>465</th>\n",
       "      <td>'I193_22'</td>\n",
       "    </tr>\n",
       "  </tbody>\n",
       "</table>\n",
       "<p>466 rows × 1 columns</p>\n",
       "</div>"
      ],
      "text/plain": [
       "      filename\n",
       "0     'I135_2'\n",
       "1     'I135_3'\n",
       "2     'I135_4'\n",
       "3     'I135_5'\n",
       "4     'I135_6'\n",
       "..         ...\n",
       "461  'I193_18'\n",
       "462  'I193_19'\n",
       "463  'I193_20'\n",
       "464  'I193_21'\n",
       "465  'I193_22'\n",
       "\n",
       "[466 rows x 1 columns]"
      ]
     },
     "execution_count": 139,
     "metadata": {},
     "output_type": "execute_result"
    }
   ],
   "source": []
  }
 ],
 "metadata": {
  "kernelspec": {
   "display_name": "tensorflow",
   "language": "python",
   "name": "python3"
  },
  "language_info": {
   "codemirror_mode": {
    "name": "ipython",
    "version": 3
   },
   "file_extension": ".py",
   "mimetype": "text/x-python",
   "name": "python",
   "nbconvert_exporter": "python",
   "pygments_lexer": "ipython3",
   "version": "3.10.9"
  },
  "orig_nbformat": 4
 },
 "nbformat": 4,
 "nbformat_minor": 2
}
