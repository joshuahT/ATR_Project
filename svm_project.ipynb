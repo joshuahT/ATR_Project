{
 "cells": [
  {
   "cell_type": "code",
   "execution_count": 1,
   "metadata": {},
   "outputs": [],
   "source": [
    "from matplotlib import pyplot as plt\n",
    "from skimage.feature import hog\n",
    "from skimage import exposure\n",
    "from skimage.transform import resize\n",
    "\n",
    "from sklearn.svm import SVC, NuSVC\n",
    "from sklearn.model_selection import train_test_split, GridSearchCV, RandomizedSearchCV\n",
    "from sklearn.cluster import KMeans\n",
    "from sklearn import tree\n",
    "from sklearn.linear_model import SGDClassifier\n",
    "\n",
    "import os\n",
    "import numpy as np\n",
    "import nibabel as nib\n",
    "\n",
    "import pandas as pd\n"
   ]
  },
  {
   "cell_type": "code",
   "execution_count": 2,
   "metadata": {},
   "outputs": [],
   "source": [
    "def process_img(filepath, resize_l=250, resize_w=250, resize_d=64):\n",
    "    scan = nib.load(filepath)\n",
    "    scan = scan.get_fdata()\n",
    "    \n",
    "    scan = resize(scan, output_shape=(resize_l, resize_w, resize_d))\n",
    "    scan = hog(scan, orientations=16, pixels_per_cell=(20,20), cells_per_block=(1,1), channel_axis=-1)\n",
    "    return scan\n",
    "\n",
    "\n",
    "def process_with_aug(filepath, resize_l=250, resize_w=250, resize_d=64):\n",
    "    scan = nib.load(filepath)\n",
    "    scan = scan.get_fdata()\n",
    "    \n",
    "    scan = resize(scan, output_shape=(resize_l, resize_w, resize_d))\n",
    "    aug1 = [ele.T for ele in scan]\n",
    "    aug2 = [ele.T for ele in aug1]\n",
    "    scan = hog(scan, orientations=16, pixels_per_cell=(20,20), cells_per_block=(1,1), channel_axis=-1)\n",
    "    aug1 = hog(aug1, orientations=16, pixels_per_cell=(20,20), cells_per_block=(1,1), channel_axis=-1)\n",
    "    aug2 = hog(aug2, orientations=16, pixels_per_cell=(20,20), cells_per_block=(1,1), channel_axis=-1)\n",
    "    return scan, aug1, aug2\n"
   ]
  },
  {
   "cell_type": "code",
   "execution_count": 3,
   "metadata": {},
   "outputs": [
    {
     "name": "stdout",
     "output_type": "stream",
     "text": [
      "Loading Images\n"
     ]
    }
   ],
   "source": [
    "\n",
    "data_folder = f'{os.getcwd()}/labeled_data/data/'\n",
    "\n",
    "length = 0\n",
    "for label in os.listdir(data_folder):\n",
    "    length += len(os.listdir(f'{data_folder}/{label}/'))\n",
    "\n",
    "\n",
    "# X = np.empty(shape=(length, resize_l, resize_w, 64,), dtype=np.float16)\n",
    "X = []\n",
    "Y = []\n",
    "\n",
    "j = 0\n",
    "print('Loading Images')\n",
    "x,y,z = 0,0,0\n",
    "for label in os.listdir(data_folder):\n",
    "    img_directory = f'{data_folder}/{label}/'\n",
    "    for img in os.listdir(img_directory): \n",
    "        \n",
    "        img_path = '{}{}'.format(img_directory, img)\n",
    "        img = nib.load(img_path)\n",
    "        img "
   ]
  },
  {
   "cell_type": "code",
   "execution_count": 4,
   "metadata": {},
   "outputs": [
    {
     "name": "stdout",
     "output_type": "stream",
     "text": [
      "Loading Images\n"
     ]
    }
   ],
   "source": [
    "# # test \n",
    "# resize_l = 250\n",
    "# resize_w = 250\n",
    "# resize_d = 64\n",
    "\n",
    "# data_folder = f'{os.getcwd()}/labeled_data/data/'\n",
    "\n",
    "# length = 0\n",
    "# for label in os.listdir(data_folder):\n",
    "#     length += len(os.listdir(f'{data_folder}/{label}/'))\n",
    "\n",
    "\n",
    "# # X = np.empty(shape=(length, resize_l, resize_w, 64,), dtype=np.float16)\n",
    "# X = []\n",
    "# Y = []\n",
    "\n",
    "# j = 0\n",
    "# print('Loading Images')\n",
    "# for label in os.listdir(data_folder):\n",
    "#     img_directory = f'{data_folder}/{label}/'\n",
    "#     for img in os.listdir(img_directory): \n",
    "#         if int(label) == 0:\n",
    "#             img_path = '{}{}'.format(img_directory, img)\n",
    "#             img = process_img(img_path, resize_l, resize_w, resize_d)\n",
    "#             X += [img]\n",
    "#             Y += [label]\n",
    "#         else:\n",
    "#             img_path = '{}{}'.format(img_directory, img)\n",
    "#             img, aug1, aug2 = process_with_aug(img_path, resize_l, resize_w, resize_d)\n",
    "#             X += [img, aug1, aug2]\n",
    "#             Y += [label, label, label]\n",
    "        "
   ]
  },
  {
   "cell_type": "code",
   "execution_count": 5,
   "metadata": {},
   "outputs": [
    {
     "name": "stdout",
     "output_type": "stream",
     "text": [
      "Loading Images\n"
     ]
    }
   ],
   "source": [
    "resize_l = 250\n",
    "resize_w = 250\n",
    "resize_d = 64\n",
    "\n",
    "data_folder = f'{os.getcwd()}/labeled_data/data/'\n",
    "\n",
    "length = 0\n",
    "for label in os.listdir(data_folder):\n",
    "    length += len(os.listdir(f'{data_folder}/{label}/'))\n",
    "\n",
    "\n",
    "# X = np.empty(shape=(length, resize_l, resize_w, 64,), dtype=np.float16)\n",
    "X = []\n",
    "Y = []\n",
    "\n",
    "print('Loading Images')\n",
    "for label in os.listdir(data_folder):\n",
    "    img_directory = f'{data_folder}/{label}/'\n",
    "    for img in os.listdir(img_directory): \n",
    "        \n",
    "        img_path = '{}{}'.format(img_directory, img)\n",
    "        img = process_img(img_path, resize_l, resize_w, resize_d)\n",
    "        X += [img]\n",
    "        Y += [label]\n",
    "        "
   ]
  },
  {
   "cell_type": "code",
   "execution_count": 6,
   "metadata": {},
   "outputs": [],
   "source": [
    "train_x, test_x, train_y, test_y = train_test_split(X, Y, test_size=0.3, random_state=777)\n"
   ]
  },
  {
   "cell_type": "code",
   "execution_count": 7,
   "metadata": {},
   "outputs": [
    {
     "data": {
      "text/plain": [
       "0.6192052980132451"
      ]
     },
     "execution_count": 7,
     "metadata": {},
     "output_type": "execute_result"
    }
   ],
   "source": [
    "classifier = tree.DecisionTreeClassifier()\n",
    "classifier.fit(train_x, train_y)\n",
    "y_pred = classifier.predict(test_x)\n",
    "acc = np.mean(y_pred == test_y)\n",
    "acc"
   ]
  },
  {
   "cell_type": "code",
   "execution_count": 14,
   "metadata": {},
   "outputs": [],
   "source": [
    "# classifier = SVC(kernel='poly', degree=3, gamma='scale', probability=True, class_weight='balanced')\n",
    "params = {\n",
    "    'C': np.logspace(-4, 4, 20),\n",
    "    'degree': [1, 5],\n",
    "    'kernel': ['linear','poly','rbf','sigmoid'],\n",
    "    'coef0': np.logspace(-10, 10, 30)\n",
    "\n",
    "    \n",
    "}\n",
    "\n",
    "weights ={\n",
    "    '0': 1,\n",
    "    '1': 2,\n",
    "    '2': 2,\n",
    "    '3': 2\n",
    "}\n",
    "classifier = SVC(class_weight=weights)\n",
    "classifier = RandomizedSearchCV(classifier, params,  cv=10, n_jobs=-1, n_iter=100)\n",
    "classifier.fit(train_x, train_y)\n",
    "y_pred = classifier.predict(test_x)\n",
    "\n",
    "acc = np.mean(y_pred == test_y)\n",
    "acc"
   ]
  },
  {
   "cell_type": "code",
   "execution_count": 13,
   "metadata": {},
   "outputs": [
    {
     "data": {
      "text/html": [
       "<style>#sk-container-id-1 {color: black;background-color: white;}#sk-container-id-1 pre{padding: 0;}#sk-container-id-1 div.sk-toggleable {background-color: white;}#sk-container-id-1 label.sk-toggleable__label {cursor: pointer;display: block;width: 100%;margin-bottom: 0;padding: 0.3em;box-sizing: border-box;text-align: center;}#sk-container-id-1 label.sk-toggleable__label-arrow:before {content: \"▸\";float: left;margin-right: 0.25em;color: #696969;}#sk-container-id-1 label.sk-toggleable__label-arrow:hover:before {color: black;}#sk-container-id-1 div.sk-estimator:hover label.sk-toggleable__label-arrow:before {color: black;}#sk-container-id-1 div.sk-toggleable__content {max-height: 0;max-width: 0;overflow: hidden;text-align: left;background-color: #f0f8ff;}#sk-container-id-1 div.sk-toggleable__content pre {margin: 0.2em;color: black;border-radius: 0.25em;background-color: #f0f8ff;}#sk-container-id-1 input.sk-toggleable__control:checked~div.sk-toggleable__content {max-height: 200px;max-width: 100%;overflow: auto;}#sk-container-id-1 input.sk-toggleable__control:checked~label.sk-toggleable__label-arrow:before {content: \"▾\";}#sk-container-id-1 div.sk-estimator input.sk-toggleable__control:checked~label.sk-toggleable__label {background-color: #d4ebff;}#sk-container-id-1 div.sk-label input.sk-toggleable__control:checked~label.sk-toggleable__label {background-color: #d4ebff;}#sk-container-id-1 input.sk-hidden--visually {border: 0;clip: rect(1px 1px 1px 1px);clip: rect(1px, 1px, 1px, 1px);height: 1px;margin: -1px;overflow: hidden;padding: 0;position: absolute;width: 1px;}#sk-container-id-1 div.sk-estimator {font-family: monospace;background-color: #f0f8ff;border: 1px dotted black;border-radius: 0.25em;box-sizing: border-box;margin-bottom: 0.5em;}#sk-container-id-1 div.sk-estimator:hover {background-color: #d4ebff;}#sk-container-id-1 div.sk-parallel-item::after {content: \"\";width: 100%;border-bottom: 1px solid gray;flex-grow: 1;}#sk-container-id-1 div.sk-label:hover label.sk-toggleable__label {background-color: #d4ebff;}#sk-container-id-1 div.sk-serial::before {content: \"\";position: absolute;border-left: 1px solid gray;box-sizing: border-box;top: 0;bottom: 0;left: 50%;z-index: 0;}#sk-container-id-1 div.sk-serial {display: flex;flex-direction: column;align-items: center;background-color: white;padding-right: 0.2em;padding-left: 0.2em;position: relative;}#sk-container-id-1 div.sk-item {position: relative;z-index: 1;}#sk-container-id-1 div.sk-parallel {display: flex;align-items: stretch;justify-content: center;background-color: white;position: relative;}#sk-container-id-1 div.sk-item::before, #sk-container-id-1 div.sk-parallel-item::before {content: \"\";position: absolute;border-left: 1px solid gray;box-sizing: border-box;top: 0;bottom: 0;left: 50%;z-index: -1;}#sk-container-id-1 div.sk-parallel-item {display: flex;flex-direction: column;z-index: 1;position: relative;background-color: white;}#sk-container-id-1 div.sk-parallel-item:first-child::after {align-self: flex-end;width: 50%;}#sk-container-id-1 div.sk-parallel-item:last-child::after {align-self: flex-start;width: 50%;}#sk-container-id-1 div.sk-parallel-item:only-child::after {width: 0;}#sk-container-id-1 div.sk-dashed-wrapped {border: 1px dashed gray;margin: 0 0.4em 0.5em 0.4em;box-sizing: border-box;padding-bottom: 0.4em;background-color: white;}#sk-container-id-1 div.sk-label label {font-family: monospace;font-weight: bold;display: inline-block;line-height: 1.2em;}#sk-container-id-1 div.sk-label-container {text-align: center;}#sk-container-id-1 div.sk-container {/* jupyter's `normalize.less` sets `[hidden] { display: none; }` but bootstrap.min.css set `[hidden] { display: none !important; }` so we also need the `!important` here to be able to override the default hidden behavior on the sphinx rendered scikit-learn.org. See: https://github.com/scikit-learn/scikit-learn/issues/21755 */display: inline-block !important;position: relative;}#sk-container-id-1 div.sk-text-repr-fallback {display: none;}</style><div id=\"sk-container-id-1\" class=\"sk-top-container\"><div class=\"sk-text-repr-fallback\"><pre>SVC(C=1438.44988828766, class_weight={&#x27;0&#x27;: 1, &#x27;1&#x27;: 2, &#x27;2&#x27;: 2, &#x27;3&#x27;: 2},\n",
       "    coef0=2043359717.8569396, degree=5)</pre><b>In a Jupyter environment, please rerun this cell to show the HTML representation or trust the notebook. <br />On GitHub, the HTML representation is unable to render, please try loading this page with nbviewer.org.</b></div><div class=\"sk-container\" hidden><div class=\"sk-item\"><div class=\"sk-estimator sk-toggleable\"><input class=\"sk-toggleable__control sk-hidden--visually\" id=\"sk-estimator-id-1\" type=\"checkbox\" checked><label for=\"sk-estimator-id-1\" class=\"sk-toggleable__label sk-toggleable__label-arrow\">SVC</label><div class=\"sk-toggleable__content\"><pre>SVC(C=1438.44988828766, class_weight={&#x27;0&#x27;: 1, &#x27;1&#x27;: 2, &#x27;2&#x27;: 2, &#x27;3&#x27;: 2},\n",
       "    coef0=2043359717.8569396, degree=5)</pre></div></div></div></div></div>"
      ],
      "text/plain": [
       "SVC(C=1438.44988828766, class_weight={'0': 1, '1': 2, '2': 2, '3': 2},\n",
       "    coef0=2043359717.8569396, degree=5)"
      ]
     },
     "execution_count": 13,
     "metadata": {},
     "output_type": "execute_result"
    }
   ],
   "source": [
    "classifier.best_estimator_\n",
    "\n",
    "# SVC(C=1438.44988828766, class_weight={'0': 1, '1': 2, '2': 2, '3': 2},\n",
    "#     coef0=2043359717.8569396, degree=5)"
   ]
  },
  {
   "cell_type": "code",
   "execution_count": null,
   "metadata": {},
   "outputs": [],
   "source": []
  },
  {
   "cell_type": "code",
   "execution_count": 10,
   "metadata": {},
   "outputs": [
    {
     "ename": "FileNotFoundError",
     "evalue": "No such file or no access: 'c:\\Users\\pjame\\OneDrive\\Documents\\GitHub\\ATR_Project/ATR_data/data/I135_2.nii.gz'",
     "output_type": "error",
     "traceback": [
      "\u001b[1;31m---------------------------------------------------------------------------\u001b[0m",
      "\u001b[1;31mFileNotFoundError\u001b[0m                         Traceback (most recent call last)",
      "File \u001b[1;32m~\\AppData\\Roaming\\Python\\Python310\\site-packages\\nibabel\\loadsave.py:87\u001b[0m, in \u001b[0;36mload\u001b[1;34m(filename, **kwargs)\u001b[0m\n\u001b[0;32m     86\u001b[0m \u001b[39mtry\u001b[39;00m:\n\u001b[1;32m---> 87\u001b[0m     stat_result \u001b[39m=\u001b[39m os\u001b[39m.\u001b[39;49mstat(filename)\n\u001b[0;32m     88\u001b[0m \u001b[39mexcept\u001b[39;00m \u001b[39mOSError\u001b[39;00m:\n",
      "\u001b[1;31mFileNotFoundError\u001b[0m: [WinError 3] The system cannot find the path specified: 'c:\\\\Users\\\\pjame\\\\OneDrive\\\\Documents\\\\GitHub\\\\ATR_Project/ATR_data/data/I135_2.nii.gz'",
      "\nDuring handling of the above exception, another exception occurred:\n",
      "\u001b[1;31mFileNotFoundError\u001b[0m                         Traceback (most recent call last)",
      "Cell \u001b[1;32mIn[10], line 10\u001b[0m\n\u001b[0;32m      7\u001b[0m     filename \u001b[39m=\u001b[39m ground_truth[\u001b[39m'\u001b[39m\u001b[39mfilename\u001b[39m\u001b[39m'\u001b[39m]\u001b[39m.\u001b[39miloc[i]\n\u001b[0;32m      9\u001b[0m     img_path \u001b[39m=\u001b[39m \u001b[39m'\u001b[39m\u001b[39m{}\u001b[39;00m\u001b[39m{}\u001b[39;00m\u001b[39m.nii.gz\u001b[39m\u001b[39m'\u001b[39m\u001b[39m.\u001b[39mformat(data_folder,filename[\u001b[39m1\u001b[39m:\u001b[39m-\u001b[39m\u001b[39m1\u001b[39m])\n\u001b[1;32m---> 10\u001b[0m     gt_x \u001b[39m+\u001b[39m\u001b[39m=\u001b[39m [process_img(img_path, resize_l, resize_w, resize_d)]\n\u001b[0;32m     12\u001b[0m gt_y \u001b[39m=\u001b[39m classifier\u001b[39m.\u001b[39mpredict(gt_x)\n",
      "Cell \u001b[1;32mIn[2], line 2\u001b[0m, in \u001b[0;36mprocess_img\u001b[1;34m(filepath, resize_l, resize_w, resize_d)\u001b[0m\n\u001b[0;32m      1\u001b[0m \u001b[39mdef\u001b[39;00m \u001b[39mprocess_img\u001b[39m(filepath, resize_l\u001b[39m=\u001b[39m\u001b[39m250\u001b[39m, resize_w\u001b[39m=\u001b[39m\u001b[39m250\u001b[39m, resize_d\u001b[39m=\u001b[39m\u001b[39m64\u001b[39m):\n\u001b[1;32m----> 2\u001b[0m     scan \u001b[39m=\u001b[39m nib\u001b[39m.\u001b[39;49mload(filepath)\n\u001b[0;32m      3\u001b[0m     scan \u001b[39m=\u001b[39m scan\u001b[39m.\u001b[39mget_fdata()\n\u001b[0;32m      5\u001b[0m     scan \u001b[39m=\u001b[39m resize(scan, output_shape\u001b[39m=\u001b[39m(resize_l, resize_w, resize_d))\n",
      "File \u001b[1;32m~\\AppData\\Roaming\\Python\\Python310\\site-packages\\nibabel\\loadsave.py:89\u001b[0m, in \u001b[0;36mload\u001b[1;34m(filename, **kwargs)\u001b[0m\n\u001b[0;32m     87\u001b[0m     stat_result \u001b[39m=\u001b[39m os\u001b[39m.\u001b[39mstat(filename)\n\u001b[0;32m     88\u001b[0m \u001b[39mexcept\u001b[39;00m \u001b[39mOSError\u001b[39;00m:\n\u001b[1;32m---> 89\u001b[0m     \u001b[39mraise\u001b[39;00m \u001b[39mFileNotFoundError\u001b[39;00m(\u001b[39mf\u001b[39m\u001b[39m\"\u001b[39m\u001b[39mNo such file or no access: \u001b[39m\u001b[39m'\u001b[39m\u001b[39m{\u001b[39;00mfilename\u001b[39m}\u001b[39;00m\u001b[39m'\u001b[39m\u001b[39m\"\u001b[39m)\n\u001b[0;32m     90\u001b[0m \u001b[39mif\u001b[39;00m stat_result\u001b[39m.\u001b[39mst_size \u001b[39m<\u001b[39m\u001b[39m=\u001b[39m \u001b[39m0\u001b[39m:\n\u001b[0;32m     91\u001b[0m     \u001b[39mraise\u001b[39;00m ImageFileError(\u001b[39mf\u001b[39m\u001b[39m\"\u001b[39m\u001b[39mEmpty file: \u001b[39m\u001b[39m'\u001b[39m\u001b[39m{\u001b[39;00mfilename\u001b[39m}\u001b[39;00m\u001b[39m'\u001b[39m\u001b[39m\"\u001b[39m)\n",
      "\u001b[1;31mFileNotFoundError\u001b[0m: No such file or no access: 'c:\\Users\\pjame\\OneDrive\\Documents\\GitHub\\ATR_Project/ATR_data/data/I135_2.nii.gz'"
     ]
    }
   ],
   "source": [
    "data_folder = f'{os.getcwd()}/ATR_data/data/'\n",
    "\n",
    "ground_truth = pd.read_excel('testing_filenames.xlsx', names=['filename'])\n",
    "gt_x = []\n",
    "\n",
    "for i in ground_truth.index:\n",
    "    filename = ground_truth['filename'].iloc[i]\n",
    "\n",
    "    img_path = '{}{}.nii.gz'.format(data_folder,filename[1:-1])\n",
    "    gt_x += [process_img(img_path, resize_l, resize_w, resize_d)]\n",
    "\n",
    "gt_y = classifier.predict(gt_x)\n",
    "\n",
    "\n"
   ]
  },
  {
   "cell_type": "code",
   "execution_count": null,
   "metadata": {},
   "outputs": [],
   "source": [
    "df = pd.DataFrame([ground_truth['filename'], gt_y]).T\n",
    "\n",
    "df.columns = ['filename', 'label']\n",
    "df.to_excel('y_predictions.xlsx', )\n"
   ]
  },
  {
   "cell_type": "code",
   "execution_count": null,
   "metadata": {},
   "outputs": [
    {
     "data": {
      "text/html": [
       "<div>\n",
       "<style scoped>\n",
       "    .dataframe tbody tr th:only-of-type {\n",
       "        vertical-align: middle;\n",
       "    }\n",
       "\n",
       "    .dataframe tbody tr th {\n",
       "        vertical-align: top;\n",
       "    }\n",
       "\n",
       "    .dataframe thead th {\n",
       "        text-align: right;\n",
       "    }\n",
       "</style>\n",
       "<table border=\"1\" class=\"dataframe\">\n",
       "  <thead>\n",
       "    <tr style=\"text-align: right;\">\n",
       "      <th></th>\n",
       "      <th>filename</th>\n",
       "    </tr>\n",
       "  </thead>\n",
       "  <tbody>\n",
       "    <tr>\n",
       "      <th>0</th>\n",
       "      <td>'I135_2'</td>\n",
       "    </tr>\n",
       "    <tr>\n",
       "      <th>1</th>\n",
       "      <td>'I135_3'</td>\n",
       "    </tr>\n",
       "    <tr>\n",
       "      <th>2</th>\n",
       "      <td>'I135_4'</td>\n",
       "    </tr>\n",
       "    <tr>\n",
       "      <th>3</th>\n",
       "      <td>'I135_5'</td>\n",
       "    </tr>\n",
       "    <tr>\n",
       "      <th>4</th>\n",
       "      <td>'I135_6'</td>\n",
       "    </tr>\n",
       "    <tr>\n",
       "      <th>...</th>\n",
       "      <td>...</td>\n",
       "    </tr>\n",
       "    <tr>\n",
       "      <th>461</th>\n",
       "      <td>'I193_18'</td>\n",
       "    </tr>\n",
       "    <tr>\n",
       "      <th>462</th>\n",
       "      <td>'I193_19'</td>\n",
       "    </tr>\n",
       "    <tr>\n",
       "      <th>463</th>\n",
       "      <td>'I193_20'</td>\n",
       "    </tr>\n",
       "    <tr>\n",
       "      <th>464</th>\n",
       "      <td>'I193_21'</td>\n",
       "    </tr>\n",
       "    <tr>\n",
       "      <th>465</th>\n",
       "      <td>'I193_22'</td>\n",
       "    </tr>\n",
       "  </tbody>\n",
       "</table>\n",
       "<p>466 rows × 1 columns</p>\n",
       "</div>"
      ],
      "text/plain": [
       "      filename\n",
       "0     'I135_2'\n",
       "1     'I135_3'\n",
       "2     'I135_4'\n",
       "3     'I135_5'\n",
       "4     'I135_6'\n",
       "..         ...\n",
       "461  'I193_18'\n",
       "462  'I193_19'\n",
       "463  'I193_20'\n",
       "464  'I193_21'\n",
       "465  'I193_22'\n",
       "\n",
       "[466 rows x 1 columns]"
      ]
     },
     "execution_count": 139,
     "metadata": {},
     "output_type": "execute_result"
    }
   ],
   "source": []
  }
 ],
 "metadata": {
  "kernelspec": {
   "display_name": "tensorflow",
   "language": "python",
   "name": "python3"
  },
  "language_info": {
   "codemirror_mode": {
    "name": "ipython",
    "version": 3
   },
   "file_extension": ".py",
   "mimetype": "text/x-python",
   "name": "python",
   "nbconvert_exporter": "python",
   "pygments_lexer": "ipython3",
   "version": "3.10.9"
  },
  "orig_nbformat": 4
 },
 "nbformat": 4,
 "nbformat_minor": 2
}
