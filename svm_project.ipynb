{
 "cells": [
  {
   "cell_type": "code",
   "execution_count": 43,
   "metadata": {},
   "outputs": [],
   "source": [
    "from matplotlib import pyplot as pyplot\n",
    "from skimage.feature import hog\n",
    "from skimage import exposure\n",
    "from skimage.transform import resize\n",
    "\n",
    "from sklearn.svm import SVC\n",
    "from sklearn.model_selection import train_test_split\n",
    "\n",
    "import os\n",
    "import numpy as np\n",
    "import nibabel as nib\n",
    "\n"
   ]
  },
  {
   "cell_type": "code",
   "execution_count": 32,
   "metadata": {},
   "outputs": [],
   "source": [
    "# colored\n",
    "def process_img(filepath):\n",
    "    scan = nib.load(filepath)\n",
    "    scan = scan.get_fdata()\n",
    "    return scan\n"
   ]
  },
  {
   "cell_type": "code",
   "execution_count": 47,
   "metadata": {},
   "outputs": [],
   "source": [
    "# gray scale \n",
    "def process_img(filepath):\n",
    "    scan = nib.load(filepath)\n",
    "    scan = scan.get_fdata()\n",
    "    gray_scan= np.dot(scan[..., :3], [0.2989, 0.5870, 0.1140])\n",
    "    return gray_scan"
   ]
  },
  {
   "cell_type": "code",
   "execution_count": 48,
   "metadata": {},
   "outputs": [
    {
     "name": "stdout",
     "output_type": "stream",
     "text": [
      "Loading Images\n"
     ]
    }
   ],
   "source": [
    "resize_l = 250\n",
    "resize_w = 250\n",
    "\n",
    "\n",
    "data_folder = f'{os.getcwd()}/labeled_data/data/'\n",
    "\n",
    "length = 0\n",
    "for label in os.listdir(data_folder):\n",
    "    length += len(os.listdir(f'{data_folder}/{label}/'))\n",
    "\n",
    "\n",
    "# X = np.empty(shape=(length, resize_l, resize_w, 64,), dtype=np.float16)\n",
    "X = []\n",
    "Y = np.empty(shape=(length), dtype=np.int64)\n",
    "\n",
    "\n",
    "\n",
    "j = 0\n",
    "print('Loading Images')\n",
    "for label in os.listdir(data_folder):\n",
    "    img_directory = f'{data_folder}/{label}/'\n",
    "    for img in os.listdir(img_directory): \n",
    "\n",
    "        img_path = '{}{}'.format(img_directory, img)\n",
    "        img = process_img(img_path)\n",
    "        img = resize(img, output_shape=(resize_l, resize_w, 64))\n",
    "        img = hog(img, orientations=8, pixels_per_cell=(20,20), cells_per_block=(1,1), channel_axis=-1)\n",
    "        X += [img]\n",
    "        Y[j] = label\n",
    "        j += 1\n",
    "        "
   ]
  },
  {
   "cell_type": "code",
   "execution_count": 40,
   "metadata": {},
   "outputs": [
    {
     "data": {
      "text/plain": [
       "0.7218543046357616"
      ]
     },
     "execution_count": 40,
     "metadata": {},
     "output_type": "execute_result"
    }
   ],
   "source": [
    "# original implementation \n",
    "train_x, test_x, train_y, test_y = train_test_split(X, Y, test_size=0.3)\n",
    "\n",
    "\n",
    "classifier = SVC()\n",
    "\n",
    "classifier.fit(train_x, train_y)\n",
    "y_pred = classifier.predict(test_x)\n",
    "\n",
    "acc = np.mean(y_pred == test_y)\n",
    "acc\n"
   ]
  },
  {
   "cell_type": "code",
   "execution_count": 49,
   "metadata": {},
   "outputs": [
    {
     "name": "stdout",
     "output_type": "stream",
     "text": [
      "Fold 1 ...\n",
      "0.7128712871287128\n",
      "Fold 2 ...\n",
      "0.693069306930693\n",
      "Fold 3 ...\n",
      "0.7029702970297029\n",
      "Fold 4 ...\n",
      "0.7029702970297029\n",
      "Fold 5 ...\n",
      "0.7029702970297029\n",
      "Fold 6 ...\n",
      "0.71\n",
      "Fold 7 ...\n",
      "0.71\n",
      "Fold 8 ...\n",
      "0.7\n",
      "Fold 9 ...\n",
      "0.7\n",
      "Fold 10 ...\n",
      "0.7\n"
     ]
    }
   ],
   "source": [
    "# k fold implmentation\n",
    "from sklearn.model_selection import StratifiedKFold\n",
    "n_splits = 10\n",
    "\n",
    "X = np.array(X)\n",
    "Y = np.array(Y)\n",
    "\n",
    "skf = StratifiedKFold(n_splits=n_splits, shuffle=True)\n",
    "\n",
    "for fold, (train_index, test_index) in enumerate(skf.split(X, Y)):\n",
    "    print(f\"Fold {fold+1} ...\")\n",
    "\n",
    "    train_index = np.array(train_index).astype(int)\n",
    "    test_index = np.array(test_index).astype(int)\n",
    "\n",
    "    clf = SVC()\n",
    "    clf.fit(X[train_index],Y[train_index])\n",
    "\n",
    "    y_pred = clf.predict(X[test_index])\n",
    "\n",
    "    acc = np.mean(y_pred == Y[test_index])\n",
    "    print(acc)\n"
   ]
  }
 ],
 "metadata": {
  "kernelspec": {
   "display_name": "tensorflow",
   "language": "python",
   "name": "python3"
  },
  "language_info": {
   "codemirror_mode": {
    "name": "ipython",
    "version": 3
   },
   "file_extension": ".py",
   "mimetype": "text/x-python",
   "name": "python",
   "nbconvert_exporter": "python",
   "pygments_lexer": "ipython3",
   "version": "3.10.10"
  },
  "orig_nbformat": 4
 },
 "nbformat": 4,
 "nbformat_minor": 2
}
