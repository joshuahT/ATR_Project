{
 "cells": [
  {
   "cell_type": "code",
   "execution_count": null,
   "metadata": {},
   "outputs": [],
   "source": [
    "from matplotlib import pyplot as pyplot\n",
    "from skimage.feature import hog\n",
    "from skimage import exposure\n",
    "from skimage.transform import resize\n",
    "\n",
    "from sklearn.svm import SVC\n",
    "from sklearn.model_selection import train_test_split\n",
    "\n",
    "import os\n",
    "import numpy as np\n",
    "import nibabel as nib\n",
    "\n"
   ]
  },
  {
   "cell_type": "code",
   "execution_count": null,
   "metadata": {},
   "outputs": [],
   "source": [
    "def process_img(filepath):\n",
    "    scan = nib.load(filepath)\n",
    "    scan = scan.get_fdata()\n",
    "    return scan\n"
   ]
  },
  {
   "cell_type": "code",
   "execution_count": null,
   "metadata": {},
   "outputs": [],
   "source": [
    "resize_l = 250\n",
    "resize_w = 250\n",
    "\n",
    "\n",
    "data_folder = f'{os.getcwd()}/labeled_data/data/'\n",
    "\n",
    "length = 0\n",
    "for label in os.listdir(data_folder):\n",
    "    length += len(os.listdir(f'{data_folder}/{label}/'))\n",
    "\n",
    "\n",
    "# X = np.empty(shape=(length, resize_l, resize_w, 64,), dtype=np.float16)\n",
    "X = []\n",
    "Y = np.empty(shape=(length), dtype=np.int64)\n",
    "\n",
    "j = 0\n",
    "print('Loading Images')\n",
    "for label in os.listdir(data_folder):\n",
    "    img_directory = f'{data_folder}/{label}/'\n",
    "    for img in os.listdir(img_directory): \n",
    "\n",
    "        img_path = '{}{}'.format(img_directory, img)\n",
    "        img = process_img(img_path)\n",
    "        img = resize(img, output_shape=(resize_l, resize_w, 64))\n",
    "        img = hog(img, orientations=8, pixels_per_cell=(20,20), cells_per_block=(1,1), channel_axis=-1)\n",
    "        X += [img]\n",
    "        Y[j] = label\n",
    "        j += 1\n",
    "        "
   ]
  },
  {
   "cell_type": "code",
   "execution_count": null,
   "metadata": {},
   "outputs": [],
   "source": [
    "train_x, test_x, train_y, test_y = train_test_split(X, Y, test_size=0.3)\n"
   ]
  },
  {
   "cell_type": "code",
   "execution_count": null,
   "metadata": {},
   "outputs": [],
   "source": [
    "classifier = SVC()\n",
    "\n",
    "classifier.fit(train_x, train_y)\n",
    "y_pred = classifier.predict(test_x)\n",
    "\n",
    "acc = np.mean(y_pred == test_y)\n",
    "acc"
   ]
  },
  {
   "cell_type": "code",
   "execution_count": null,
   "metadata": {},
   "outputs": [],
   "source": []
  }
 ],
 "metadata": {
  "language_info": {
   "name": "python"
  },
  "orig_nbformat": 4
 },
 "nbformat": 4,
 "nbformat_minor": 2
}
